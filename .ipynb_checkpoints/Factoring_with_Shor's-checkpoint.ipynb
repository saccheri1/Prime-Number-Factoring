{
 "cells": [
  {
   "cell_type": "markdown",
   "metadata": {
    "colab_type": "text",
    "id": "view-in-github"
   },
   "source": [
    "<a href=\"https://colab.research.google.com/github/rryoung98/Prime-Number-Factoring/blob/main/Factoring_with_Shor's.ipynb\" target=\"_parent\"><img src=\"https://colab.research.google.com/assets/colab-badge.svg\" alt=\"Open In Colab\"/></a>"
   ]
  },
  {
   "cell_type": "markdown",
   "metadata": {
    "id": "ZW6YManqVah7"
   },
   "source": [
    "# Factoring prime numbers using Shor's Algorithm."
   ]
  },
  {
   "cell_type": "code",
   "execution_count": null,
   "metadata": {
    "colab": {
     "base_uri": "https://localhost:8080/"
    },
    "id": "VgGhPh7B5eVN",
    "outputId": "9fbdbcb9-959b-41f1-a0c8-d0ca952a6ff2"
   },
   "outputs": [],
   "source": [
    "# #Use pip install for qiskit, shor, aqua and backend as needed for runtime\n",
    "# !qbraid envs pennylane pip install qiskit\n",
    "# # !pip install Shor\n",
    "# # !pip install aqua\n",
    "# # !pip install backend\n",
    "# # !pip install -U matplotlib\n",
    "# !qbraid envs pennylane pip install jax\n",
    "# !qbraid envs pennylane pip install jaxlib\n",
    "!qbraid envs amazon_braket pip install StrawberryFields"
   ]
  },
  {
   "cell_type": "code",
   "execution_count": 4,
   "metadata": {
    "colab": {
     "base_uri": "https://localhost:8080/"
    },
    "id": "sjP_IVSRbnR-",
    "outputId": "0915ff5f-9585-45ee-9882-ba884309c861"
   },
   "outputs": [
    {
     "name": "stdout",
     "output_type": "stream",
     "text": [
      "Imports Successful\n"
     ]
    }
   ],
   "source": [
    "#Import packages and qiskit libraries\n",
    "import matplotlib.pyplot as plt\n",
    "import numpy as np\n",
    "import math\n",
    "import pandas as pd\n",
    "# import backend\n",
    "from qiskit import QuantumCircuit, Aer, transpile, assemble\n",
    "from qiskit import BasicAer\n",
    "from qiskit.visualization import plot_histogram\n",
    "from qiskit.utils import QuantumInstance\n",
    "from qiskit.algorithms import Shor\n",
    "# from qiskit.components.oracles import TruthTableOracle\n",
    "from math import gcd\n",
    "from numpy.random import randint\n",
    "from fractions import Fraction\n",
    "print(\"Imports Successful\")"
   ]
  },
  {
   "cell_type": "markdown",
   "metadata": {},
   "source": [
    "Authored By: David Ladd and Ricky Young"
   ]
  },
  {
   "cell_type": "markdown",
   "metadata": {},
   "source": [
    "# Introduction\n",
    "\n",
    "For this blog installment, we will explore integer factoring using classical methods and Shor’s algorithm on a quantum machine. In addition, we will use python to perform trial factoring to determine whether an integer is a prime number. We will also create a sieve of Eratosthenes which filters prime numbers from a bounded set of integers greater than 1. The historical and mathematical concepts are presented only for context and to set the stage for using quantum programming for integer factoring to determine primality. Mathematical rigor was intentionally omitted, but we hope this blog inspires you to learn more about number theory, especially prime numbers, by exploring the referenced material. We also encourage you to upload the python notebook into your qBraid environment and have some fun hunting for prime numbers!\n",
    "\n",
    "\n",
    "If you've heard of quantum computing breaking RSA encrpytion. You're in the right place. Shor's algorithm developed in 1994 by American mathematician Peter Shor, is a cornerstone of quantum computing and is used for factoring prime numbers, which are integers that are not 0 or $\\pm 1$ that is not disisbile without remainder by any other integer except $\\pm 1$ or $\\pm$ itself.\n",
    "\n",
    "\n"
   ]
  },
  {
   "cell_type": "markdown",
   "metadata": {},
   "source": [
    "## Refresh on prime numbers\n",
    "We’ll begin with a brief refresher on prime numbers and factoring. A prime number is a natural number greater than 1 that is not the product of two smaller natural numbers. For example, 2 is a prime number because the only natural numbers with a product equal to 2 are 1 and 2; 4 is not a prime number because 2 x 2 = 4 and is called a composite number. Another way to look at the above examples is that the number 2 can only be divided by 1 or 2, whereas 4 can be divided by 1, 2, and 4. Natural numbers that can be evenly divided (no remainder) by only two positive divisors, 1 and the natural number itself, are prime numbers. Therefore, a positive integer n is prime if and only if n > 1 and n cannot be evenly divided by another positive integer m where {m ∣ m ∈ N, 1 < m < n}. "
   ]
  },
  {
   "cell_type": "markdown",
   "metadata": {},
   "source": [
    "## The history of Prime Numbers\n",
    "The study of prime numbers has a long and fabled history which began in Egypt around 1,550 BC. In 300 BC the Greek mathematician Euclid, published his treatise on geometry, The Elements, and brought rigor to the study prime numbers, including a proof of their infinitude and that every integer greater than 1 can be expressed as a product of prime numbers. The latter is also known as the Fundamental Theorem of Arithmetic or the Prime Factorization Theorem. \n"
   ]
  },
  {
   "cell_type": "markdown",
   "metadata": {},
   "source": [
    "## Historical Implemntations\n",
    "Throughout the following centuries, mathematical giants such as Fermat, Leibniz, Euler, and Riemann made significant contributions to number theory through their research on prime numbers. New discoveries of prime number properties continue today. One common thread during the 3,000 plus year history of prime number research is that until the middle of the 20th century, calculations were performed without the assistance of electronic devices aka “done by hand”. Therefore, to determine whether a number was prime or composite, mathematicians had to rely on methods like trial division or create “sieves”. \n"
   ]
  },
  {
   "cell_type": "markdown",
   "metadata": {},
   "source": [
    "### Trial Divsion\n",
    "Trial division or factoring, is simply the process of determining whether an integer n can be evenly divided by another integer smaller than n. This is easy with a small number like 12 which can be divided by 1, 2, 3, 4, and 6. However, finding the factors for a number like 5,581 is not as easy and takes some elbow grease (incidentally 5,581 is a prime number, so it only has two factors 1 and 5,581). \n"
   ]
  },
  {
   "cell_type": "code",
   "execution_count": null,
   "metadata": {},
   "outputs": [],
   "source": [
    "# Classical Factorization 1\n",
    "num=int(input(\"enter a number\"))\n",
    "2\n",
    "factors=[]\n",
    "3\n",
    "for i in range(1,num+1):\n",
    "4\n",
    "    if num%i==0:\n",
    "5\n",
    "       factors.append(i)\n",
    "6\n",
    "​\n",
    "7\n",
    "print (\"Factors of {} = {}\".format(num,factors))\n"
   ]
  },
  {
   "cell_type": "markdown",
   "metadata": {},
   "source": [
    "### Sieves and the Seive of Eratosthenes\n",
    "There are many types of number sieves, but the oldest and perhaps most famous is the sieve of Eratosthenes which identifies all the prime numbers up to a value of n by identifying composite numbers that are multiples of prime numbers and eliminating them from the set. The remaining numbers are prime numbers. For example, to identify the prime numbers in the following set of integers {2, 3, 4, 5, 6, 7, 8, 9, 10} we take the first prime number 2 and eliminate multiples of 2 in the set which leaves us {2, 3, 5, 7, 9}. The next prime number is 3, after eliminating multiples of 3 we have {2, 3, 5, 7}. Since there are not any more composite numbers that are multiples of prime numbers our work is finished. \n"
   ]
  },
  {
   "cell_type": "code",
   "execution_count": null,
   "metadata": {},
   "outputs": [],
   "source": [
    "# Python program to print all Primes Smaller\n",
    "# than or equal to N using Sieve of Eratosthenes\n",
    "\n",
    "\n",
    "def SieveOfEratosthenes(num):\n",
    "\tprime = [True for i in range(num+1)]\n",
    "# boolean array\n",
    "\tp = 2\n",
    "\twhile (p * p <= num):\n",
    "\n",
    "\t\t# If prime[p] is not\n",
    "\t\t# changed, then it is a prime\n",
    "\t\tif (prime[p] == True):\n",
    "\n",
    "\t\t\t# Updating all multiples of p\n",
    "\t\t\tfor i in range(p * p, num+1, p):\n",
    "\t\t\t\tprime[i] = False\n",
    "\t\tp += 1\n",
    "\n",
    "\t# Print all prime numbers\n",
    "\tfor p in range(2, num+1):\n",
    "\t\tif prime[p]:\n",
    "\t\t\tprint(p)\n",
    "\n",
    "\n",
    "# Driver code\n",
    "if __name__ == '__main__':\n",
    "\tnum = 50\n",
    "\tprint(\"Following are the prime numbers smaller\"),\n",
    "\tprint(\"than or equal to\", num)\n",
    "\tSieveOfEratosthenes(num)"
   ]
  },
  {
   "cell_type": "markdown",
   "metadata": {},
   "source": [
    "## The first programs\n",
    "It was not until the 1950’s that the first programmable computers were invented and this allowed researchers to instruct a computer to perform calculations using algorithms. Programmable computers relieved researchers of the labor involved with manual calculations and ushered in a new era of number theory research. As a result, the hunt for very large prime numbers essentially began. Armed with computers and algorithms to test integers for primality, researchers are able to identify prime numbers that are thousands of digits long. "
   ]
  },
  {
   "cell_type": "markdown",
   "metadata": {},
   "source": [
    "## Why prime numnbers?\n",
    "This begs the question, “why are the best minds and costly, cutting edge computing resources thrown at searching for prime numbers?” Much to the chagrin of G. H Hardy, the English number theorist who took pride in his mathematical work not having any practical use, prime numbers are extremely useful and valuable especially in the field of cryptography. \n"
   ]
  },
  {
   "cell_type": "markdown",
   "metadata": {},
   "source": [
    "## Let's explore some implementations!\n",
    "Currently, prime numbers are used for public key cryptography algorithms, including RSA, which uses 2048 bit prime numbers for the encryption key. RSA with long encryption keys is generally considered to be unbreakable because of the run time required to factor such large numbers. However, in 1994 Peter Shor showed that RSA could be cracked in a reasonable amount of time by using a quantum computer. Although we are years away from seeing Peter Shor’s vision become a reality this brings us to the objective of this blog – comparing integer factoring run times/methodologies between classical and quantum environments. We encourage you to experiment with the supplied code and try factoring larger integers. "
   ]
  },
  {
   "cell_type": "markdown",
   "metadata": {
    "id": "vglOG7hIWZ0m"
   },
   "source": [
    "Shor's algorithm works by using the period by period finding. \n",
    "\n",
    "## Overview of Shor's Algorithm\n",
    "\n",
    "https://medium.com/a-bit-of-qubit/shors-algorithm-how-does-it-work-aa6153646419\n",
    "\n",
    "\n",
    "2. Shor’s Algorithm: Steps\n",
    "With all the necessary definitions above, now we can go through the steps of Shor’s algorithm which he introduced in 1994 [3].\n",
    "\n",
    "Our objective is to find factors (prime) of a number N=p⋅q.\n",
    "\n",
    "Pick a number a, which is a co-prime with N. (Classical computer);\n",
    "Need to find the smallest r such that aʳ≡1(mod N).\n",
    "If r is even: Go to the next step. If r is odd go back to pick another a.\n",
    "If r is even then we found the non-trivial square root of N;\n",
    "Define x=pow(a, r/2). (Classical computer);\n",
    "If x+1≡0(mod N); then one of p,q is contained in gcd(x+1, N) or gcd(x−1, N). (Classical computer);\n",
    "If these fail (from step 3); we start everything by considering different a.\n",
    "\n",
    " "
   ]
  },
  {
   "cell_type": "code",
   "execution_count": 5,
   "metadata": {
    "colab": {
     "base_uri": "https://localhost:8080/",
     "height": 295
    },
    "id": "rqKWA64Bezji",
    "outputId": "d46d2923-84c4-4cef-c8af-4bfbf019919e"
   },
   "outputs": [
    {
     "data": {
      "image/png": "[encoded data removed]",
      "text/plain": [
       "<Figure size 432x288 with 1 Axes>"
      ]
     },
     "metadata": {
      "needs_background": "light"
     },
     "output_type": "display_data"
    }
   ],
   "source": [
    "#Setting N = 15 and a = 7\n",
    "N = 15\n",
    "a = 7\n",
    "\n",
    "# Calculate the plotting data\n",
    "xvals = np.arange(35)\n",
    "yvals = [np.mod(a**x, N) for x in xvals]\n",
    "\n",
    "# Use matplotlib to display it nicely\n",
    "fig, ax = plt.subplots()\n",
    "ax.plot(xvals, yvals, linewidth=1, linestyle='dotted', marker='x')\n",
    "ax.set(xlabel='$x$', ylabel='$%i^x$ mod $%i$' % (a, N),\n",
    "       title=\"Example of Periodic Function in Shor's Algorithm\")\n",
    "try: # plot r on the graph\n",
    "    r = yvals[1:].index(1) +1 \n",
    "    plt.annotate('', xy=(0,1), xytext=(r,1), arrowprops=dict(arrowstyle='<->'))\n",
    "    plt.annotate('$r=%i$' % r, xy=(r/3,1.5))\n",
    "except ValueError:\n",
    "    print('Could not find period, check a < N and have no common factors.')"
   ]
  },
  {
   "cell_type": "markdown",
   "metadata": {
    "id": "ToJIjotYVjqF"
   },
   "source": [
    "\n",
    "\n",
    "\n",
    "First, we will set up a quantum circuit for period function f(x)=axmodN where a = 7 and N = 15. \n",
    "\n",
    "\n",
    "\n",
    "\n",
    "To find the prime numbers of 15, using Shor's algorithm the steps will be to first find a co-prime of 15. Ie we need to find the smallest $r$ such that aʳ≡1(mod N). We first begin with the number 7 and need to check if it satisfies the condition of being a co-prime ie $7c=1(\\text{mod}15)$. When we check we do find that the integer $c=2$ satisifies our condition. However, when trying to accomplish prime factorization we need to apply a stricter rule and find non-trivial square root of primes $a^r=1(\\text{mod}15)$. A non-trivial square root is extremely helpful in finding primes.\n"
   ]
  },
  {
   "cell_type": "markdown",
   "metadata": {
    "id": "AxctuXPcPinP"
   },
   "source": [
    "# Getting Started\n",
    "We'll first start with picking "
   ]
  },
  {
   "cell_type": "code",
   "execution_count": 6,
   "metadata": {
    "colab": {
     "base_uri": "https://localhost:8080/"
    },
    "id": "Op50xELGCbl4",
    "outputId": "c2367ca5-0351-4f7b-e4b9-aaa6d30bb1a4"
   },
   "outputs": [
    {
     "name": "stdout",
     "output_type": "stream",
     "text": [
      "7\n"
     ]
    }
   ],
   "source": [
    "np.random.seed(1) # This is to make sure we get reproduceable results\n",
    "a = randint(2, 11)\n",
    "print(a)"
   ]
  },
  {
   "cell_type": "code",
   "execution_count": 7,
   "metadata": {
    "id": "J_JPmfOLDCM3"
   },
   "outputs": [],
   "source": [
    "N=12"
   ]
  },
  {
   "cell_type": "code",
   "execution_count": 8,
   "metadata": {
    "colab": {
     "base_uri": "https://localhost:8080/"
    },
    "id": "0TdeMp2ZCz0D",
    "outputId": "625210e1-76ba-4070-a0d5-84d0a732e939"
   },
   "outputs": [
    {
     "data": {
      "text/plain": [
       "1"
      ]
     },
     "execution_count": 8,
     "metadata": {},
     "output_type": "execute_result"
    }
   ],
   "source": [
    "from math import gcd # greatest common divisor\n",
    "gcd(a, N)"
   ]
  },
  {
   "cell_type": "code",
   "execution_count": 9,
   "metadata": {
    "id": "TjS2qm2kFlNe"
   },
   "outputs": [],
   "source": [
    "def c_amod15(a, power):\n",
    "    \"\"\"Controlled multiplication by a mod 15\"\"\"\n",
    "    if a not in [2,4,7,8,11,13]:\n",
    "        raise ValueError(\"'a' must be 2,4,7,8,11 or 13\")\n",
    "    U = QuantumCircuit(4)        \n",
    "    for iteration in range(power):\n",
    "        if a in [2,13]:\n",
    "            U.swap(0,1)\n",
    "            U.swap(1,2)\n",
    "            U.swap(2,3)\n",
    "        if a in [7,8]:\n",
    "            U.swap(2,3)\n",
    "            U.swap(1,2)\n",
    "            U.swap(0,1)\n",
    "        if a in [4, 11]:\n",
    "            U.swap(1,3)\n",
    "            U.swap(0,2)\n",
    "        if a in [7,11,13]:\n",
    "            for q in range(4):\n",
    "                U.x(q)\n",
    "    U = U.to_gate()\n",
    "    U.name = \"%i^%i mod 15\" % (a, power)\n",
    "    c_U = U.control()\n",
    "    return c_U"
   ]
  },
  {
   "cell_type": "code",
   "execution_count": 10,
   "metadata": {
    "id": "MLIPZHd4GkI3"
   },
   "outputs": [],
   "source": [
    "# Specify variables\n",
    "n_count = 8  # number of counting qubits\n",
    "a = 7"
   ]
  },
  {
   "cell_type": "code",
   "execution_count": 11,
   "metadata": {
    "id": "E2uYiZd9FuHy"
   },
   "outputs": [],
   "source": [
    "def qft_dagger(n):\n",
    "    \"\"\"n-qubit QFTdagger the first n qubits in circ\"\"\"\n",
    "    qc = QuantumCircuit(n)\n",
    "    # Don't forget the Swaps!\n",
    "    for qubit in range(n//2):\n",
    "        qc.swap(qubit, n-qubit-1)\n",
    "    for j in range(n):\n",
    "        for m in range(j):\n",
    "            qc.cp(-np.pi/float(2**(j-m)), m, j)\n",
    "        qc.h(j)\n",
    "    qc.name = \"QFT†\"\n",
    "    return qc"
   ]
  },
  {
   "cell_type": "code",
   "execution_count": 12,
   "metadata": {
    "colab": {
     "base_uri": "https://localhost:8080/",
     "height": 433
    },
    "id": "z5px2ESeGAv0",
    "outputId": "b8c7af32-822b-4fd4-8f67-bc3a9cc2bb07"
   },
   "outputs": [
    {
     "data": {
      "text/html": [
       "<pre style=\"word-wrap: normal;white-space: pre;background: #fff0;line-height: 1.1;font-family: &quot;Courier New&quot;,Courier,monospace\">      ┌───┐                                                                                                                             ┌───────┐┌─┐                     \n",
       " q_0: ┤ H ├───────■─────────────────────────────────────────────────────────────────────────────────────────────────────────────────────┤0      ├┤M├─────────────────────\n",
       "      ├───┤       │                                                                                                                     │       │└╥┘┌─┐                  \n",
       " q_1: ┤ H ├───────┼──────────────■──────────────────────────────────────────────────────────────────────────────────────────────────────┤1      ├─╫─┤M├──────────────────\n",
       "      ├───┤       │              │                                                                                                      │       │ ║ └╥┘┌─┐               \n",
       " q_2: ┤ H ├───────┼──────────────┼──────────────■───────────────────────────────────────────────────────────────────────────────────────┤2      ├─╫──╫─┤M├───────────────\n",
       "      ├───┤       │              │              │                                                                                       │       │ ║  ║ └╥┘┌─┐            \n",
       " q_3: ┤ H ├───────┼──────────────┼──────────────┼──────────────■────────────────────────────────────────────────────────────────────────┤3      ├─╫──╫──╫─┤M├────────────\n",
       "      ├───┤       │              │              │              │                                                                        │  QFT† │ ║  ║  ║ └╥┘┌─┐         \n",
       " q_4: ┤ H ├───────┼──────────────┼──────────────┼──────────────┼──────────────■─────────────────────────────────────────────────────────┤4      ├─╫──╫──╫──╫─┤M├─────────\n",
       "      ├───┤       │              │              │              │              │                                                         │       │ ║  ║  ║  ║ └╥┘┌─┐      \n",
       " q_5: ┤ H ├───────┼──────────────┼──────────────┼──────────────┼──────────────┼───────────────■─────────────────────────────────────────┤5      ├─╫──╫──╫──╫──╫─┤M├──────\n",
       "      ├───┤       │              │              │              │              │               │                                         │       │ ║  ║  ║  ║  ║ └╥┘┌─┐   \n",
       " q_6: ┤ H ├───────┼──────────────┼──────────────┼──────────────┼──────────────┼───────────────┼───────────────■─────────────────────────┤6      ├─╫──╫──╫──╫──╫──╫─┤M├───\n",
       "      ├───┤       │              │              │              │              │               │               │                         │       │ ║  ║  ║  ║  ║  ║ └╥┘┌─┐\n",
       " q_7: ┤ H ├───────┼──────────────┼──────────────┼──────────────┼──────────────┼───────────────┼───────────────┼────────────────■────────┤7      ├─╫──╫──╫──╫──╫──╫──╫─┤M├\n",
       "      └───┘┌──────┴──────┐┌──────┴──────┐┌──────┴──────┐┌──────┴──────┐┌──────┴───────┐┌──────┴───────┐┌──────┴───────┐┌───────┴───────┐└───────┘ ║  ║  ║  ║  ║  ║  ║ └╥┘\n",
       " q_8: ─────┤0            ├┤0            ├┤0            ├┤0            ├┤0             ├┤0             ├┤0             ├┤0              ├──────────╫──╫──╫──╫──╫──╫──╫──╫─\n",
       "           │             ││             ││             ││             ││              ││              ││              ││               │          ║  ║  ║  ║  ║  ║  ║  ║ \n",
       " q_9: ─────┤1            ├┤1            ├┤1            ├┤1            ├┤1             ├┤1             ├┤1             ├┤1              ├──────────╫──╫──╫──╫──╫──╫──╫──╫─\n",
       "           │  7^1 mod 15 ││  7^2 mod 15 ││  7^4 mod 15 ││  7^8 mod 15 ││  7^16 mod 15 ││  7^32 mod 15 ││  7^64 mod 15 ││  7^128 mod 15 │          ║  ║  ║  ║  ║  ║  ║  ║ \n",
       "q_10: ─────┤2            ├┤2            ├┤2            ├┤2            ├┤2             ├┤2             ├┤2             ├┤2              ├──────────╫──╫──╫──╫──╫──╫──╫──╫─\n",
       "      ┌───┐│             ││             ││             ││             ││              ││              ││              ││               │          ║  ║  ║  ║  ║  ║  ║  ║ \n",
       "q_11: ┤ X ├┤3            ├┤3            ├┤3            ├┤3            ├┤3             ├┤3             ├┤3             ├┤3              ├──────────╫──╫──╫──╫──╫──╫──╫──╫─\n",
       "      └───┘└─────────────┘└─────────────┘└─────────────┘└─────────────┘└──────────────┘└──────────────┘└──────────────┘└───────────────┘          ║  ║  ║  ║  ║  ║  ║  ║ \n",
       " c: 8/════════════════════════════════════════════════════════════════════════════════════════════════════════════════════════════════════════════╩══╩══╩══╩══╩══╩══╩══╩═\n",
       "                                                                                                                                                  0  1  2  3  4  5  6  7 </pre>"
      ],
      "text/plain": [
       "      ┌───┐                                                                                                                             ┌───────┐┌─┐                     \n",
       " q_0: ┤ H ├───────■─────────────────────────────────────────────────────────────────────────────────────────────────────────────────────┤0      ├┤M├─────────────────────\n",
       "      ├───┤       │                                                                                                                     │       │└╥┘┌─┐                  \n",
       " q_1: ┤ H ├───────┼──────────────■──────────────────────────────────────────────────────────────────────────────────────────────────────┤1      ├─╫─┤M├──────────────────\n",
       "      ├───┤       │              │                                                                                                      │       │ ║ └╥┘┌─┐               \n",
       " q_2: ┤ H ├───────┼──────────────┼──────────────■───────────────────────────────────────────────────────────────────────────────────────┤2      ├─╫──╫─┤M├───────────────\n",
       "      ├───┤       │              │              │                                                                                       │       │ ║  ║ └╥┘┌─┐            \n",
       " q_3: ┤ H ├───────┼──────────────┼──────────────┼──────────────■────────────────────────────────────────────────────────────────────────┤3      ├─╫──╫──╫─┤M├────────────\n",
       "      ├───┤       │              │              │              │                                                                        │  QFT† │ ║  ║  ║ └╥┘┌─┐         \n",
       " q_4: ┤ H ├───────┼──────────────┼──────────────┼──────────────┼──────────────■─────────────────────────────────────────────────────────┤4      ├─╫──╫──╫──╫─┤M├─────────\n",
       "      ├───┤       │              │              │              │              │                                                         │       │ ║  ║  ║  ║ └╥┘┌─┐      \n",
       " q_5: ┤ H ├───────┼──────────────┼──────────────┼──────────────┼──────────────┼───────────────■─────────────────────────────────────────┤5      ├─╫──╫──╫──╫──╫─┤M├──────\n",
       "      ├───┤       │              │              │              │              │               │                                         │       │ ║  ║  ║  ║  ║ └╥┘┌─┐   \n",
       " q_6: ┤ H ├───────┼──────────────┼──────────────┼──────────────┼──────────────┼───────────────┼───────────────■─────────────────────────┤6      ├─╫──╫──╫──╫──╫──╫─┤M├───\n",
       "      ├───┤       │              │              │              │              │               │               │                         │       │ ║  ║  ║  ║  ║  ║ └╥┘┌─┐\n",
       " q_7: ┤ H ├───────┼──────────────┼──────────────┼──────────────┼──────────────┼───────────────┼───────────────┼────────────────■────────┤7      ├─╫──╫──╫──╫──╫──╫──╫─┤M├\n",
       "      └───┘┌──────┴──────┐┌──────┴──────┐┌──────┴──────┐┌──────┴──────┐┌──────┴───────┐┌──────┴───────┐┌──────┴───────┐┌───────┴───────┐└───────┘ ║  ║  ║  ║  ║  ║  ║ └╥┘\n",
       " q_8: ─────┤0            ├┤0            ├┤0            ├┤0            ├┤0             ├┤0             ├┤0             ├┤0              ├──────────╫──╫──╫──╫──╫──╫──╫──╫─\n",
       "           │             ││             ││             ││             ││              ││              ││              ││               │          ║  ║  ║  ║  ║  ║  ║  ║ \n",
       " q_9: ─────┤1            ├┤1            ├┤1            ├┤1            ├┤1             ├┤1             ├┤1             ├┤1              ├──────────╫──╫──╫──╫──╫──╫──╫──╫─\n",
       "           │  7^1 mod 15 ││  7^2 mod 15 ││  7^4 mod 15 ││  7^8 mod 15 ││  7^16 mod 15 ││  7^32 mod 15 ││  7^64 mod 15 ││  7^128 mod 15 │          ║  ║  ║  ║  ║  ║  ║  ║ \n",
       "q_10: ─────┤2            ├┤2            ├┤2            ├┤2            ├┤2             ├┤2             ├┤2             ├┤2              ├──────────╫──╫──╫──╫──╫──╫──╫──╫─\n",
       "      ┌───┐│             ││             ││             ││             ││              ││              ││              ││               │          ║  ║  ║  ║  ║  ║  ║  ║ \n",
       "q_11: ┤ X ├┤3            ├┤3            ├┤3            ├┤3            ├┤3             ├┤3             ├┤3             ├┤3              ├──────────╫──╫──╫──╫──╫──╫──╫──╫─\n",
       "      └───┘└─────────────┘└─────────────┘└─────────────┘└─────────────┘└──────────────┘└──────────────┘└──────────────┘└───────────────┘          ║  ║  ║  ║  ║  ║  ║  ║ \n",
       " c: 8/════════════════════════════════════════════════════════════════════════════════════════════════════════════════════════════════════════════╩══╩══╩══╩══╩══╩══╩══╩═\n",
       "                                                                                                                                                  0  1  2  3  4  5  6  7 "
      ]
     },
     "execution_count": 12,
     "metadata": {},
     "output_type": "execute_result"
    }
   ],
   "source": [
    "# Create QuantumCircuit with n_count counting qubits\n",
    "# plus 4 qubits for U to act on\n",
    "qc = QuantumCircuit(n_count + 4, n_count)\n",
    "\n",
    "# Initialize counting qubits\n",
    "# in state |+>\n",
    "for q in range(n_count):\n",
    "    qc.h(q)\n",
    "    \n",
    "# And auxiliary register in state |1>\n",
    "qc.x(3+n_count)\n",
    "\n",
    "# Do controlled-U operations\n",
    "for q in range(n_count):\n",
    "    qc.append(c_amod15(a, 2**q), \n",
    "             [q] + [i+n_count for i in range(4)])\n",
    "\n",
    "# Do inverse-QFT\n",
    "qc.append(qft_dagger(n_count), range(n_count))\n",
    "\n",
    "# Measure circuit\n",
    "qc.measure(range(n_count), range(n_count))\n",
    "qc.draw(fold=-1)  # -1 means 'do not fold'"
   ]
  },
  {
   "cell_type": "code",
   "execution_count": 13,
   "metadata": {
    "colab": {
     "base_uri": "https://localhost:8080/"
    },
    "id": "p7xlwLhFHI7k",
    "outputId": "7a8f189b-efe1-4f11-d134-c38f0ea12a94"
   },
   "outputs": [
    {
     "name": "stdout",
     "output_type": "stream",
     "text": [
      "\n",
      "Here is the list of local backends that are available to you: \n",
      "aer_simulator\n",
      "aer_simulator_statevector\n",
      "aer_simulator_density_matrix\n",
      "aer_simulator_stabilizer\n",
      "aer_simulator_matrix_product_state\n",
      "aer_simulator_extended_stabilizer\n",
      "aer_simulator_unitary\n",
      "aer_simulator_superop\n",
      "qasm_simulator\n",
      "statevector_simulator\n",
      "unitary_simulator\n",
      "pulse_simulator\n"
     ]
    }
   ],
   "source": [
    "from qiskit import IBMQ, Aer\n",
    "# provider = IBMQ.load_account()\n",
    "# available_cloud_backends = provider.backends() \n",
    "# print('\\nHere is the list of cloud backends that are available to you:')\n",
    "# for i in available_cloud_backends: print(i)\n",
    "\n",
    "available_local_backends = Aer.backends() \n",
    "print('\\nHere is the list of local backends that are available to you: ')\n",
    "for i in available_local_backends: print(i)\n"
   ]
  },
  {
   "cell_type": "code",
   "execution_count": 14,
   "metadata": {
    "colab": {
     "base_uri": "https://localhost:8080/",
     "height": 381
    },
    "id": "oDETeWHhVFPn",
    "outputId": "536819c6-2a15-4407-dff1-3bd444cd1907"
   },
   "outputs": [
    {
     "data": {
      "image/png": "[encoded data removed]",
      "text/plain": [
       "<Figure size 504x360 with 1 Axes>"
      ]
     },
     "execution_count": 14,
     "metadata": {},
     "output_type": "execute_result"
    }
   ],
   "source": [
    "aer_sim = Aer.get_backend('qasm_simulator')\n",
    "\n",
    "t_qc = transpile(qc, aer_sim)\n",
    "qobj = assemble(t_qc)\n",
    "results = aer_sim.run(qobj).result()\n",
    "counts = results.get_counts()\n",
    "plot_histogram(counts)"
   ]
  },
  {
   "cell_type": "code",
   "execution_count": 15,
   "metadata": {
    "colab": {
     "base_uri": "https://localhost:8080/"
    },
    "id": "yWRv64woHP2i",
    "outputId": "6e458a08-1535-4c07-a1b0-d05451aac582"
   },
   "outputs": [
    {
     "name": "stdout",
     "output_type": "stream",
     "text": [
      "            Register Output           Phase\n",
      "0  00000000(bin) =   0(dec)    0/256 = 0.00\n",
      "1  10000000(bin) = 128(dec)  128/256 = 0.50\n",
      "2  11000000(bin) = 192(dec)  192/256 = 0.75\n",
      "3  01000000(bin) =  64(dec)   64/256 = 0.25\n"
     ]
    }
   ],
   "source": [
    "rows, measured_phases = [], []\n",
    "for output in counts:\n",
    "    decimal = int(output, 2)  # Convert (base 2) string to decimal\n",
    "    phase = decimal/(2**n_count)  # Find corresponding eigenvalue\n",
    "    measured_phases.append(phase)\n",
    "    # Add these values to the rows in our table:\n",
    "    rows.append([f\"{output}(bin) = {decimal:>3}(dec)\", \n",
    "                 f\"{decimal}/{2**n_count} = {phase:.2f}\"])\n",
    "# Print the rows in a table\n",
    "headers=[\"Register Output\", \"Phase\"]\n",
    "df = pd.DataFrame(rows, columns=headers)\n",
    "print(df)"
   ]
  },
  {
   "cell_type": "code",
   "execution_count": 16,
   "metadata": {
    "colab": {
     "base_uri": "https://localhost:8080/"
    },
    "id": "mHnXpwTIHge6",
    "outputId": "a171d27c-c78c-4b6b-9c95-80f944917d05"
   },
   "outputs": [
    {
     "data": {
      "text/plain": [
       "Fraction(5998794703657501, 9007199254740992)"
      ]
     },
     "execution_count": 16,
     "metadata": {},
     "output_type": "execute_result"
    }
   ],
   "source": [
    "Fraction(0.666)"
   ]
  },
  {
   "cell_type": "code",
   "execution_count": 17,
   "metadata": {
    "colab": {
     "base_uri": "https://localhost:8080/"
    },
    "id": "dTub5FlvHoon",
    "outputId": "df191708-f440-455c-cbcf-6f6a937ec13d"
   },
   "outputs": [
    {
     "data": {
      "text/plain": [
       "Fraction(2, 3)"
      ]
     },
     "execution_count": 17,
     "metadata": {},
     "output_type": "execute_result"
    }
   ],
   "source": [
    "# Get fraction that most closely resembles 0.666\n",
    "# with denominator < 15\n",
    "Fraction(0.666).limit_denominator(15)"
   ]
  },
  {
   "cell_type": "code",
   "execution_count": 18,
   "metadata": {
    "colab": {
     "base_uri": "https://localhost:8080/"
    },
    "id": "Lp6ZYKfpHrnF",
    "outputId": "08b5082b-25d1-4fcb-fb25-404e0464618f"
   },
   "outputs": [
    {
     "name": "stdout",
     "output_type": "stream",
     "text": [
      "   Phase Fraction  Guess for r\n",
      "0   0.00      0/1            1\n",
      "1   0.50      1/2            2\n",
      "2   0.75      3/4            4\n",
      "3   0.25      1/4            4\n"
     ]
    }
   ],
   "source": [
    "rows = []\n",
    "for phase in measured_phases:\n",
    "    frac = Fraction(phase).limit_denominator(15)\n",
    "    rows.append([phase, f\"{frac.numerator}/{frac.denominator}\", frac.denominator])\n",
    "# Print as a table\n",
    "headers=[\"Phase\", \"Fraction\", \"Guess for r\"]\n",
    "df = pd.DataFrame(rows, columns=headers)\n",
    "print(df)"
   ]
  },
  {
   "cell_type": "markdown",
   "metadata": {
    "id": "byN2-762Ljyb"
   },
   "source": [
    "Factoring using period finding."
   ]
  },
  {
   "cell_type": "code",
   "execution_count": 19,
   "metadata": {
    "id": "jHtkehTCIRO8"
   },
   "outputs": [],
   "source": [
    "N = 31\n"
   ]
  },
  {
   "cell_type": "code",
   "execution_count": 20,
   "metadata": {
    "colab": {
     "base_uri": "https://localhost:8080/"
    },
    "id": "dR_baRjYIRLA",
    "outputId": "5fe4f37c-ec7f-4baa-8045-0ddf5e369c54"
   },
   "outputs": [
    {
     "name": "stdout",
     "output_type": "stream",
     "text": [
      "11\n"
     ]
    }
   ],
   "source": [
    "np.random.seed(3) # This is to make sure we get reproduceable results\n",
    "a = randint(1, 27)\n",
    "print(a)"
   ]
  },
  {
   "cell_type": "code",
   "execution_count": 21,
   "metadata": {
    "colab": {
     "base_uri": "https://localhost:8080/"
    },
    "id": "oh2g6dLeIRFX",
    "outputId": "36b7c42d-3da4-4925-fcb0-d0933eadab65"
   },
   "outputs": [
    {
     "data": {
      "text/plain": [
       "1"
      ]
     },
     "execution_count": 21,
     "metadata": {},
     "output_type": "execute_result"
    }
   ],
   "source": [
    "from math import gcd # greatest common divisor\n",
    "gcd(a, N)"
   ]
  },
  {
   "cell_type": "code",
   "execution_count": 22,
   "metadata": {
    "id": "RVUqXeXUIQ-X"
   },
   "outputs": [],
   "source": [
    "def qpe_amod31(a):\n",
    "    n_count = 8\n",
    "    qc = QuantumCircuit(4+n_count, n_count)\n",
    "    for q in range(n_count):\n",
    "        qc.h(q)     # Initialize counting qubits in state |+>\n",
    "    qc.x(3+n_count) # And auxiliary register in state |1>\n",
    "    for q in range(n_count): # Do controlled-U operations\n",
    "        qc.append(c_amod15(a, 2**q), \n",
    "                 [q] + [i+n_count for i in range(4)])\n",
    "    qc.append(qft_dagger(n_count), range(n_count)) # Do inverse-QFT\n",
    "    qc.measure(range(n_count), range(n_count))\n",
    "    # Simulate Results\n",
    "    aer_sim = Aer.get_backend('qasm_simulator')\n",
    "    # Setting memory=True below allows us to see a list of each sequential reading\n",
    "    t_qc = transpile(qc, aer_sim)\n",
    "    qobj = assemble(t_qc, shots=1)\n",
    "    result = aer_sim.run(qobj, memory=True).result()\n",
    "    readings = result.get_memory()\n",
    "    print(\"Register Reading: \" + readings[0])\n",
    "    phase = int(readings[0],2)/(2**n_count)\n",
    "    print(\"Corresponding Phase: %f\" % phase)\n",
    "    return phase"
   ]
  },
  {
   "cell_type": "code",
   "execution_count": 23,
   "metadata": {
    "colab": {
     "base_uri": "https://localhost:8080/"
    },
    "id": "dwX_KrfbIQ2Q",
    "outputId": "c6506c7b-34f4-4e33-8baf-048ffc5fafee"
   },
   "outputs": [
    {
     "name": "stdout",
     "output_type": "stream",
     "text": [
      "Register Reading: 10000000\n",
      "Corresponding Phase: 0.500000\n"
     ]
    },
    {
     "data": {
      "text/plain": [
       "Fraction(1, 2)"
      ]
     },
     "execution_count": 23,
     "metadata": {},
     "output_type": "execute_result"
    }
   ],
   "source": [
    "phase = qpe_amod31(a) # Phase = s/r\n",
    "Fraction(phase).limit_denominator(31) # Denominator should (hopefully!) tell us r"
   ]
  },
  {
   "cell_type": "code",
   "execution_count": 24,
   "metadata": {
    "colab": {
     "base_uri": "https://localhost:8080/"
    },
    "id": "2Nqw4Kt1Kcif",
    "outputId": "cbcf6002-dfbb-4c43-d46e-313f7bdac221"
   },
   "outputs": [
    {
     "name": "stdout",
     "output_type": "stream",
     "text": [
      "2\n"
     ]
    }
   ],
   "source": [
    "frac = Fraction(phase).limit_denominator(31)\n",
    "s, r = frac.numerator, frac.denominator\n",
    "print(r)"
   ]
  },
  {
   "cell_type": "code",
   "execution_count": 25,
   "metadata": {
    "colab": {
     "base_uri": "https://localhost:8080/"
    },
    "id": "6IWoPVfsIQpa",
    "outputId": "c2da814e-afba-4e4e-9830-7beab250a5c6"
   },
   "outputs": [
    {
     "name": "stdout",
     "output_type": "stream",
     "text": [
      "[1, 1]\n"
     ]
    }
   ],
   "source": [
    "guesses = [gcd(a**(r//2)-1, N), gcd(a**(r//2)+1, N)]\n",
    "print(guesses)"
   ]
  },
  {
   "cell_type": "markdown",
   "metadata": {
    "id": "qSG_2RZKWCXg"
   },
   "source": [
    "# Scaling of number of iterations vs N\n",
    "Big O notation.\n"
   ]
  },
  {
   "cell_type": "code",
   "execution_count": 26,
   "metadata": {
    "colab": {
     "base_uri": "https://localhost:8080/"
    },
    "id": "aV_1YmAFKoOU",
    "outputId": "2d82c23e-9292-45f3-b91e-f97fab3588cd"
   },
   "outputs": [
    {
     "name": "stdout",
     "output_type": "stream",
     "text": [
      "\n",
      "Attempt 1:\n",
      "Register Reading: 10000000\n",
      "Corresponding Phase: 0.500000\n",
      "Result: r = 2\n",
      "Guessed Factors: 1 and 1\n",
      "\n",
      "Attempt 2:\n",
      "Register Reading: 10000000\n",
      "Corresponding Phase: 0.500000\n",
      "Result: r = 2\n",
      "Guessed Factors: 1 and 1\n",
      "\n",
      "Attempt 3:\n",
      "Register Reading: 00000000\n",
      "Corresponding Phase: 0.000000\n",
      "Result: r = 1\n",
      "\n",
      "Attempt 4:\n",
      "Register Reading: 10000000\n",
      "Corresponding Phase: 0.500000\n",
      "Result: r = 2\n",
      "Guessed Factors: 1 and 1\n",
      "\n",
      "Attempt 5:\n",
      "Register Reading: 00000000\n",
      "Corresponding Phase: 0.000000\n",
      "Result: r = 1\n",
      "\n",
      "Attempt 6:\n",
      "Register Reading: 00000000\n",
      "Corresponding Phase: 0.000000\n",
      "Result: r = 1\n",
      "\n",
      "Attempt 7:\n",
      "Register Reading: 00000000\n",
      "Corresponding Phase: 0.000000\n",
      "Result: r = 1\n",
      "\n",
      "Attempt 8:\n",
      "Register Reading: 10000000\n",
      "Corresponding Phase: 0.500000\n",
      "Result: r = 2\n",
      "Guessed Factors: 1 and 1\n",
      "\n",
      "Attempt 9:\n",
      "Register Reading: 10000000\n",
      "Corresponding Phase: 0.500000\n",
      "Result: r = 2\n",
      "Guessed Factors: 1 and 1\n",
      "\n",
      "Attempt 10:\n",
      "Register Reading: 10000000\n",
      "Corresponding Phase: 0.500000\n",
      "Result: r = 2\n",
      "Guessed Factors: 1 and 1\n",
      "\n",
      "Attempt 11:\n",
      "Register Reading: 00000000\n",
      "Corresponding Phase: 0.000000\n",
      "Result: r = 1\n",
      "\n",
      "Attempt 12:\n",
      "Register Reading: 10000000\n",
      "Corresponding Phase: 0.500000\n",
      "Result: r = 2\n",
      "Guessed Factors: 1 and 1\n",
      "\n",
      "Attempt 13:\n",
      "Register Reading: 00000000\n",
      "Corresponding Phase: 0.000000\n",
      "Result: r = 1\n",
      "\n",
      "Attempt 14:\n",
      "Register Reading: 10000000\n",
      "Corresponding Phase: 0.500000\n",
      "Result: r = 2\n",
      "Guessed Factors: 1 and 1\n",
      "\n",
      "Attempt 15:\n",
      "Register Reading: 10000000\n",
      "Corresponding Phase: 0.500000\n",
      "Result: r = 2\n",
      "Guessed Factors: 1 and 1\n",
      "\n",
      "Attempt 16:\n",
      "Register Reading: 00000000\n",
      "Corresponding Phase: 0.000000\n",
      "Result: r = 1\n",
      "\n",
      "Attempt 17:\n",
      "Register Reading: 00000000\n",
      "Corresponding Phase: 0.000000\n",
      "Result: r = 1\n",
      "\n",
      "Attempt 18:\n",
      "Register Reading: 10000000\n",
      "Corresponding Phase: 0.500000\n",
      "Result: r = 2\n",
      "Guessed Factors: 1 and 1\n",
      "\n",
      "Attempt 19:\n",
      "Register Reading: 00000000\n",
      "Corresponding Phase: 0.000000\n",
      "Result: r = 1\n",
      "\n",
      "Attempt 20:\n",
      "Register Reading: 00000000\n",
      "Corresponding Phase: 0.000000\n",
      "Result: r = 1\n",
      "\n",
      "Attempt 21:\n",
      "Register Reading: 10000000\n",
      "Corresponding Phase: 0.500000\n",
      "Result: r = 2\n",
      "Guessed Factors: 1 and 1\n",
      "\n",
      "Attempt 22:\n",
      "Register Reading: 00000000\n",
      "Corresponding Phase: 0.000000\n",
      "Result: r = 1\n",
      "\n",
      "Attempt 23:\n",
      "Register Reading: 00000000\n",
      "Corresponding Phase: 0.000000\n",
      "Result: r = 1\n",
      "\n",
      "Attempt 24:\n",
      "Register Reading: 10000000\n",
      "Corresponding Phase: 0.500000\n",
      "Result: r = 2\n",
      "Guessed Factors: 1 and 1\n",
      "\n",
      "Attempt 25:\n",
      "Register Reading: 10000000\n",
      "Corresponding Phase: 0.500000\n",
      "Result: r = 2\n",
      "Guessed Factors: 1 and 1\n",
      "\n",
      "Attempt 26:\n",
      "Register Reading: 00000000\n",
      "Corresponding Phase: 0.000000\n",
      "Result: r = 1\n",
      "\n",
      "Attempt 27:\n",
      "Register Reading: 10000000\n",
      "Corresponding Phase: 0.500000\n",
      "Result: r = 2\n",
      "Guessed Factors: 1 and 1\n",
      "\n",
      "Attempt 28:\n",
      "Register Reading: 10000000\n",
      "Corresponding Phase: 0.500000\n",
      "Result: r = 2\n",
      "Guessed Factors: 1 and 1\n",
      "\n",
      "Attempt 29:\n",
      "Register Reading: 00000000\n",
      "Corresponding Phase: 0.000000\n",
      "Result: r = 1\n",
      "\n",
      "Attempt 30:\n",
      "Register Reading: 10000000\n",
      "Corresponding Phase: 0.500000\n",
      "Result: r = 2\n",
      "Guessed Factors: 1 and 1\n",
      "\n",
      "Attempt 31:\n",
      "Register Reading: 00000000\n",
      "Corresponding Phase: 0.000000\n",
      "Result: r = 1\n",
      "\n",
      "Attempt 32:\n",
      "Register Reading: 00000000\n",
      "Corresponding Phase: 0.000000\n",
      "Result: r = 1\n",
      "\n",
      "Attempt 33:\n",
      "Register Reading: 10000000\n",
      "Corresponding Phase: 0.500000\n",
      "Result: r = 2\n",
      "Guessed Factors: 1 and 1\n",
      "\n",
      "Attempt 34:\n",
      "Register Reading: 10000000\n",
      "Corresponding Phase: 0.500000\n",
      "Result: r = 2\n",
      "Guessed Factors: 1 and 1\n",
      "\n",
      "Attempt 35:\n",
      "Register Reading: 10000000\n",
      "Corresponding Phase: 0.500000\n",
      "Result: r = 2\n",
      "Guessed Factors: 1 and 1\n",
      "\n",
      "Attempt 36:\n",
      "Register Reading: 10000000\n",
      "Corresponding Phase: 0.500000\n",
      "Result: r = 2\n",
      "Guessed Factors: 1 and 1\n",
      "\n",
      "Attempt 37:\n",
      "Register Reading: 00000000\n",
      "Corresponding Phase: 0.000000\n",
      "Result: r = 1\n",
      "\n",
      "Attempt 38:\n",
      "Register Reading: 00000000\n",
      "Corresponding Phase: 0.000000\n",
      "Result: r = 1\n",
      "\n",
      "Attempt 39:\n"
     ]
    },
    {
     "ename": "KeyboardInterrupt",
     "evalue": "",
     "output_type": "error",
     "traceback": [
      "\u001b[0;31m---------------------------------------------------------------------------\u001b[0m",
      "\u001b[0;31mKeyboardInterrupt\u001b[0m                         Traceback (most recent call last)",
      "Input \u001b[0;32mIn [26]\u001b[0m, in \u001b[0;36m<cell line: 4>\u001b[0;34m()\u001b[0m\n\u001b[1;32m      5\u001b[0m attempt \u001b[38;5;241m+\u001b[39m\u001b[38;5;241m=\u001b[39m \u001b[38;5;241m1\u001b[39m\n\u001b[1;32m      6\u001b[0m \u001b[38;5;28mprint\u001b[39m(\u001b[38;5;124m\"\u001b[39m\u001b[38;5;130;01m\\n\u001b[39;00m\u001b[38;5;124mAttempt \u001b[39m\u001b[38;5;132;01m%i\u001b[39;00m\u001b[38;5;124m:\u001b[39m\u001b[38;5;124m\"\u001b[39m \u001b[38;5;241m%\u001b[39m attempt)\n\u001b[0;32m----> 7\u001b[0m phase \u001b[38;5;241m=\u001b[39m \u001b[43mqpe_amod31\u001b[49m\u001b[43m(\u001b[49m\u001b[43ma\u001b[49m\u001b[43m)\u001b[49m \u001b[38;5;66;03m# Phase = s/r\u001b[39;00m\n\u001b[1;32m      8\u001b[0m frac \u001b[38;5;241m=\u001b[39m Fraction(phase)\u001b[38;5;241m.\u001b[39mlimit_denominator(N) \u001b[38;5;66;03m# Denominator should (hopefully!) tell us r\u001b[39;00m\n\u001b[1;32m      9\u001b[0m r \u001b[38;5;241m=\u001b[39m frac\u001b[38;5;241m.\u001b[39mdenominator\n",
      "Input \u001b[0;32mIn [22]\u001b[0m, in \u001b[0;36mqpe_amod31\u001b[0;34m(a)\u001b[0m\n\u001b[1;32m     13\u001b[0m aer_sim \u001b[38;5;241m=\u001b[39m Aer\u001b[38;5;241m.\u001b[39mget_backend(\u001b[38;5;124m'\u001b[39m\u001b[38;5;124mqasm_simulator\u001b[39m\u001b[38;5;124m'\u001b[39m)\n\u001b[1;32m     14\u001b[0m \u001b[38;5;66;03m# Setting memory=True below allows us to see a list of each sequential reading\u001b[39;00m\n\u001b[0;32m---> 15\u001b[0m t_qc \u001b[38;5;241m=\u001b[39m \u001b[43mtranspile\u001b[49m\u001b[43m(\u001b[49m\u001b[43mqc\u001b[49m\u001b[43m,\u001b[49m\u001b[43m \u001b[49m\u001b[43maer_sim\u001b[49m\u001b[43m)\u001b[49m\n\u001b[1;32m     16\u001b[0m qobj \u001b[38;5;241m=\u001b[39m assemble(t_qc, shots\u001b[38;5;241m=\u001b[39m\u001b[38;5;241m1\u001b[39m)\n\u001b[1;32m     17\u001b[0m result \u001b[38;5;241m=\u001b[39m aer_sim\u001b[38;5;241m.\u001b[39mrun(qobj, memory\u001b[38;5;241m=\u001b[39m\u001b[38;5;28;01mTrue\u001b[39;00m)\u001b[38;5;241m.\u001b[39mresult()\n",
      "File \u001b[0;32m/opt/.qbraid/environments/qbraid_000000/pyenv/lib/python3.9/site-packages/qiskit/compiler/transpiler.py:341\u001b[0m, in \u001b[0;36mtranspile\u001b[0;34m(circuits, backend, basis_gates, inst_map, coupling_map, backend_properties, initial_layout, layout_method, routing_method, translation_method, scheduling_method, instruction_durations, dt, approximation_degree, timing_constraints, seed_transpiler, optimization_level, callback, output_name, unitary_synthesis_method, unitary_synthesis_plugin_config, target)\u001b[0m\n\u001b[1;32m    338\u001b[0m     \u001b[38;5;28;01mfor\u001b[39;00m circuit, unique_args \u001b[38;5;129;01min\u001b[39;00m \u001b[38;5;28mzip\u001b[39m(circuits, unique_transpile_args):\n\u001b[1;32m    339\u001b[0m         transpile_config, pass_manager \u001b[38;5;241m=\u001b[39m _combine_args(shared_args, unique_args)\n\u001b[1;32m    340\u001b[0m         output_circuits\u001b[38;5;241m.\u001b[39mappend(\n\u001b[0;32m--> 341\u001b[0m             \u001b[43m_serial_transpile_circuit\u001b[49m\u001b[43m(\u001b[49m\n\u001b[1;32m    342\u001b[0m \u001b[43m                \u001b[49m\u001b[43mcircuit\u001b[49m\u001b[43m,\u001b[49m\n\u001b[1;32m    343\u001b[0m \u001b[43m                \u001b[49m\u001b[43mpass_manager\u001b[49m\u001b[43m,\u001b[49m\n\u001b[1;32m    344\u001b[0m \u001b[43m                \u001b[49m\u001b[43mtranspile_config\u001b[49m\u001b[43m[\u001b[49m\u001b[38;5;124;43m\"\u001b[39;49m\u001b[38;5;124;43mcallback\u001b[39;49m\u001b[38;5;124;43m\"\u001b[39;49m\u001b[43m]\u001b[49m\u001b[43m,\u001b[49m\n\u001b[1;32m    345\u001b[0m \u001b[43m                \u001b[49m\u001b[43mtranspile_config\u001b[49m\u001b[43m[\u001b[49m\u001b[38;5;124;43m\"\u001b[39;49m\u001b[38;5;124;43moutput_name\u001b[39;49m\u001b[38;5;124;43m\"\u001b[39;49m\u001b[43m]\u001b[49m\u001b[43m,\u001b[49m\n\u001b[1;32m    346\u001b[0m \u001b[43m                \u001b[49m\u001b[43mtranspile_config\u001b[49m\u001b[43m[\u001b[49m\u001b[38;5;124;43m\"\u001b[39;49m\u001b[38;5;124;43mbackend_num_qubits\u001b[39;49m\u001b[38;5;124;43m\"\u001b[39;49m\u001b[43m]\u001b[49m\u001b[43m,\u001b[49m\n\u001b[1;32m    347\u001b[0m \u001b[43m                \u001b[49m\u001b[43mtranspile_config\u001b[49m\u001b[43m[\u001b[49m\u001b[38;5;124;43m\"\u001b[39;49m\u001b[38;5;124;43mfaulty_qubits_map\u001b[39;49m\u001b[38;5;124;43m\"\u001b[39;49m\u001b[43m]\u001b[49m\u001b[43m,\u001b[49m\n\u001b[1;32m    348\u001b[0m \u001b[43m                \u001b[49m\u001b[43mtranspile_config\u001b[49m\u001b[43m[\u001b[49m\u001b[38;5;124;43m\"\u001b[39;49m\u001b[38;5;124;43mpass_manager_config\u001b[39;49m\u001b[38;5;124;43m\"\u001b[39;49m\u001b[43m]\u001b[49m\u001b[38;5;241;43m.\u001b[39;49m\u001b[43mbackend_properties\u001b[49m\u001b[43m,\u001b[49m\n\u001b[1;32m    349\u001b[0m \u001b[43m            \u001b[49m\u001b[43m)\u001b[49m\n\u001b[1;32m    350\u001b[0m         )\n\u001b[1;32m    351\u001b[0m     circuits \u001b[38;5;241m=\u001b[39m output_circuits\n\u001b[1;32m    352\u001b[0m end_time \u001b[38;5;241m=\u001b[39m time()\n",
      "File \u001b[0;32m/opt/.qbraid/environments/qbraid_000000/pyenv/lib/python3.9/site-packages/qiskit/compiler/transpiler.py:434\u001b[0m, in \u001b[0;36m_serial_transpile_circuit\u001b[0;34m(circuit, pass_manager, callback, output_name, num_qubits, faulty_qubits_map, backend_prop)\u001b[0m\n\u001b[1;32m    425\u001b[0m \u001b[38;5;28;01mdef\u001b[39;00m \u001b[38;5;21m_serial_transpile_circuit\u001b[39m(\n\u001b[1;32m    426\u001b[0m     circuit,\n\u001b[1;32m    427\u001b[0m     pass_manager,\n\u001b[0;32m   (...)\u001b[0m\n\u001b[1;32m    432\u001b[0m     backend_prop\u001b[38;5;241m=\u001b[39m\u001b[38;5;28;01mNone\u001b[39;00m,\n\u001b[1;32m    433\u001b[0m ):\n\u001b[0;32m--> 434\u001b[0m     result \u001b[38;5;241m=\u001b[39m \u001b[43mpass_manager\u001b[49m\u001b[38;5;241;43m.\u001b[39;49m\u001b[43mrun\u001b[49m\u001b[43m(\u001b[49m\u001b[43mcircuit\u001b[49m\u001b[43m,\u001b[49m\u001b[43m \u001b[49m\u001b[43mcallback\u001b[49m\u001b[38;5;241;43m=\u001b[39;49m\u001b[43mcallback\u001b[49m\u001b[43m,\u001b[49m\u001b[43m \u001b[49m\u001b[43moutput_name\u001b[49m\u001b[38;5;241;43m=\u001b[39;49m\u001b[43moutput_name\u001b[49m\u001b[43m)\u001b[49m\n\u001b[1;32m    435\u001b[0m     \u001b[38;5;28;01mif\u001b[39;00m faulty_qubits_map:\n\u001b[1;32m    436\u001b[0m         \u001b[38;5;28;01mreturn\u001b[39;00m _remap_circuit_faulty_backend(\n\u001b[1;32m    437\u001b[0m             result,\n\u001b[1;32m    438\u001b[0m             num_qubits,\n\u001b[1;32m    439\u001b[0m             backend_prop,\n\u001b[1;32m    440\u001b[0m             faulty_qubits_map,\n\u001b[1;32m    441\u001b[0m         )\n",
      "File \u001b[0;32m/opt/.qbraid/environments/qbraid_000000/pyenv/lib/python3.9/site-packages/qiskit/transpiler/passmanager.py:507\u001b[0m, in \u001b[0;36mStagedPassManager.run\u001b[0;34m(self, circuits, output_name, callback)\u001b[0m\n\u001b[1;32m    500\u001b[0m \u001b[38;5;28;01mdef\u001b[39;00m \u001b[38;5;21mrun\u001b[39m(\n\u001b[1;32m    501\u001b[0m     \u001b[38;5;28mself\u001b[39m,\n\u001b[1;32m    502\u001b[0m     circuits: Union[QuantumCircuit, List[QuantumCircuit]],\n\u001b[1;32m    503\u001b[0m     output_name: \u001b[38;5;28mstr\u001b[39m \u001b[38;5;241m=\u001b[39m \u001b[38;5;28;01mNone\u001b[39;00m,\n\u001b[1;32m    504\u001b[0m     callback: Callable \u001b[38;5;241m=\u001b[39m \u001b[38;5;28;01mNone\u001b[39;00m,\n\u001b[1;32m    505\u001b[0m ) \u001b[38;5;241m-\u001b[39m\u001b[38;5;241m>\u001b[39m Union[QuantumCircuit, List[QuantumCircuit]]:\n\u001b[1;32m    506\u001b[0m     \u001b[38;5;28mself\u001b[39m\u001b[38;5;241m.\u001b[39m_update_passmanager()\n\u001b[0;32m--> 507\u001b[0m     \u001b[38;5;28;01mreturn\u001b[39;00m \u001b[38;5;28;43msuper\u001b[39;49m\u001b[43m(\u001b[49m\u001b[43m)\u001b[49m\u001b[38;5;241;43m.\u001b[39;49m\u001b[43mrun\u001b[49m\u001b[43m(\u001b[49m\u001b[43mcircuits\u001b[49m\u001b[43m,\u001b[49m\u001b[43m \u001b[49m\u001b[43moutput_name\u001b[49m\u001b[43m,\u001b[49m\u001b[43m \u001b[49m\u001b[43mcallback\u001b[49m\u001b[43m)\u001b[49m\n",
      "File \u001b[0;32m/opt/.qbraid/environments/qbraid_000000/pyenv/lib/python3.9/site-packages/qiskit/transpiler/passmanager.py:224\u001b[0m, in \u001b[0;36mPassManager.run\u001b[0;34m(self, circuits, output_name, callback)\u001b[0m\n\u001b[1;32m    222\u001b[0m     \u001b[38;5;28;01mreturn\u001b[39;00m circuits\n\u001b[1;32m    223\u001b[0m \u001b[38;5;28;01mif\u001b[39;00m \u001b[38;5;28misinstance\u001b[39m(circuits, QuantumCircuit):\n\u001b[0;32m--> 224\u001b[0m     \u001b[38;5;28;01mreturn\u001b[39;00m \u001b[38;5;28;43mself\u001b[39;49m\u001b[38;5;241;43m.\u001b[39;49m\u001b[43m_run_single_circuit\u001b[49m\u001b[43m(\u001b[49m\u001b[43mcircuits\u001b[49m\u001b[43m,\u001b[49m\u001b[43m \u001b[49m\u001b[43moutput_name\u001b[49m\u001b[43m,\u001b[49m\u001b[43m \u001b[49m\u001b[43mcallback\u001b[49m\u001b[43m)\u001b[49m\n\u001b[1;32m    225\u001b[0m \u001b[38;5;28;01mif\u001b[39;00m \u001b[38;5;28mlen\u001b[39m(circuits) \u001b[38;5;241m==\u001b[39m \u001b[38;5;241m1\u001b[39m:\n\u001b[1;32m    226\u001b[0m     \u001b[38;5;28;01mreturn\u001b[39;00m \u001b[38;5;28mself\u001b[39m\u001b[38;5;241m.\u001b[39m_run_single_circuit(circuits[\u001b[38;5;241m0\u001b[39m], output_name, callback)\n",
      "File \u001b[0;32m/opt/.qbraid/environments/qbraid_000000/pyenv/lib/python3.9/site-packages/qiskit/transpiler/passmanager.py:279\u001b[0m, in \u001b[0;36mPassManager._run_single_circuit\u001b[0;34m(self, circuit, output_name, callback)\u001b[0m\n\u001b[1;32m    267\u001b[0m \u001b[38;5;124;03m\"\"\"Run all the passes on a ``circuit``.\u001b[39;00m\n\u001b[1;32m    268\u001b[0m \n\u001b[1;32m    269\u001b[0m \u001b[38;5;124;03mArgs:\u001b[39;00m\n\u001b[0;32m   (...)\u001b[0m\n\u001b[1;32m    276\u001b[0m \u001b[38;5;124;03m    The transformed circuit.\u001b[39;00m\n\u001b[1;32m    277\u001b[0m \u001b[38;5;124;03m\"\"\"\u001b[39;00m\n\u001b[1;32m    278\u001b[0m running_passmanager \u001b[38;5;241m=\u001b[39m \u001b[38;5;28mself\u001b[39m\u001b[38;5;241m.\u001b[39m_create_running_passmanager()\n\u001b[0;32m--> 279\u001b[0m result \u001b[38;5;241m=\u001b[39m \u001b[43mrunning_passmanager\u001b[49m\u001b[38;5;241;43m.\u001b[39;49m\u001b[43mrun\u001b[49m\u001b[43m(\u001b[49m\u001b[43mcircuit\u001b[49m\u001b[43m,\u001b[49m\u001b[43m \u001b[49m\u001b[43moutput_name\u001b[49m\u001b[38;5;241;43m=\u001b[39;49m\u001b[43moutput_name\u001b[49m\u001b[43m,\u001b[49m\u001b[43m \u001b[49m\u001b[43mcallback\u001b[49m\u001b[38;5;241;43m=\u001b[39;49m\u001b[43mcallback\u001b[49m\u001b[43m)\u001b[49m\n\u001b[1;32m    280\u001b[0m \u001b[38;5;28mself\u001b[39m\u001b[38;5;241m.\u001b[39mproperty_set \u001b[38;5;241m=\u001b[39m running_passmanager\u001b[38;5;241m.\u001b[39mproperty_set\n\u001b[1;32m    281\u001b[0m \u001b[38;5;28;01mreturn\u001b[39;00m result\n",
      "File \u001b[0;32m/opt/.qbraid/environments/qbraid_000000/pyenv/lib/python3.9/site-packages/qiskit/transpiler/runningpassmanager.py:126\u001b[0m, in \u001b[0;36mRunningPassManager.run\u001b[0;34m(***failed resolving arguments***)\u001b[0m\n\u001b[1;32m    123\u001b[0m     \u001b[38;5;28;01mfor\u001b[39;00m pass_ \u001b[38;5;129;01min\u001b[39;00m passset:\n\u001b[1;32m    124\u001b[0m         dag \u001b[38;5;241m=\u001b[39m \u001b[38;5;28mself\u001b[39m\u001b[38;5;241m.\u001b[39m_do_pass(pass_, dag, passset\u001b[38;5;241m.\u001b[39moptions)\n\u001b[0;32m--> 126\u001b[0m circuit \u001b[38;5;241m=\u001b[39m \u001b[43mdag_to_circuit\u001b[49m\u001b[43m(\u001b[49m\u001b[43mdag\u001b[49m\u001b[43m)\u001b[49m\n\u001b[1;32m    127\u001b[0m \u001b[38;5;28;01mif\u001b[39;00m output_name:\n\u001b[1;32m    128\u001b[0m     circuit\u001b[38;5;241m.\u001b[39mname \u001b[38;5;241m=\u001b[39m output_name\n",
      "File \u001b[0;32m/opt/.qbraid/environments/qbraid_000000/pyenv/lib/python3.9/site-packages/qiskit/converters/dag_to_circuit.py:62\u001b[0m, in \u001b[0;36mdag_to_circuit\u001b[0;34m(dag)\u001b[0m\n\u001b[1;32m     59\u001b[0m circuit\u001b[38;5;241m.\u001b[39mcalibrations \u001b[38;5;241m=\u001b[39m dag\u001b[38;5;241m.\u001b[39mcalibrations\n\u001b[1;32m     61\u001b[0m \u001b[38;5;28;01mfor\u001b[39;00m node \u001b[38;5;129;01min\u001b[39;00m dag\u001b[38;5;241m.\u001b[39mtopological_op_nodes():\n\u001b[0;32m---> 62\u001b[0m     circuit\u001b[38;5;241m.\u001b[39m_append(CircuitInstruction(\u001b[43mnode\u001b[49m\u001b[38;5;241;43m.\u001b[39;49m\u001b[43mop\u001b[49m\u001b[38;5;241;43m.\u001b[39;49m\u001b[43mcopy\u001b[49m\u001b[43m(\u001b[49m\u001b[43m)\u001b[49m, node\u001b[38;5;241m.\u001b[39mqargs, node\u001b[38;5;241m.\u001b[39mcargs))\n\u001b[1;32m     64\u001b[0m circuit\u001b[38;5;241m.\u001b[39mduration \u001b[38;5;241m=\u001b[39m dag\u001b[38;5;241m.\u001b[39mduration\n\u001b[1;32m     65\u001b[0m circuit\u001b[38;5;241m.\u001b[39munit \u001b[38;5;241m=\u001b[39m dag\u001b[38;5;241m.\u001b[39munit\n",
      "File \u001b[0;32m/opt/.qbraid/environments/qbraid_000000/pyenv/lib/python3.9/site-packages/qiskit/circuit/instruction.py:423\u001b[0m, in \u001b[0;36mInstruction.copy\u001b[0;34m(self, name)\u001b[0m\n\u001b[1;32m    411\u001b[0m \u001b[38;5;28;01mdef\u001b[39;00m \u001b[38;5;21mcopy\u001b[39m(\u001b[38;5;28mself\u001b[39m, name\u001b[38;5;241m=\u001b[39m\u001b[38;5;28;01mNone\u001b[39;00m):\n\u001b[1;32m    412\u001b[0m     \u001b[38;5;124;03m\"\"\"\u001b[39;00m\n\u001b[1;32m    413\u001b[0m \u001b[38;5;124;03m    Copy of the instruction.\u001b[39;00m\n\u001b[1;32m    414\u001b[0m \n\u001b[0;32m   (...)\u001b[0m\n\u001b[1;32m    421\u001b[0m \u001b[38;5;124;03m        updated if it was provided\u001b[39;00m\n\u001b[1;32m    422\u001b[0m \u001b[38;5;124;03m    \"\"\"\u001b[39;00m\n\u001b[0;32m--> 423\u001b[0m     cpy \u001b[38;5;241m=\u001b[39m \u001b[38;5;28;43mself\u001b[39;49m\u001b[38;5;241;43m.\u001b[39;49m\u001b[43m__deepcopy__\u001b[49m\u001b[43m(\u001b[49m\u001b[43m)\u001b[49m\n\u001b[1;32m    425\u001b[0m     \u001b[38;5;28;01mif\u001b[39;00m name:\n\u001b[1;32m    426\u001b[0m         cpy\u001b[38;5;241m.\u001b[39mname \u001b[38;5;241m=\u001b[39m name\n",
      "File \u001b[0;32m/opt/.qbraid/environments/qbraid_000000/pyenv/lib/python3.9/site-packages/qiskit/circuit/controlledgate.py:231\u001b[0m, in \u001b[0;36mControlledGate.__deepcopy__\u001b[0;34m(self, _memo)\u001b[0m\n\u001b[1;32m    229\u001b[0m \u001b[38;5;28;01mdef\u001b[39;00m \u001b[38;5;21m__deepcopy__\u001b[39m(\u001b[38;5;28mself\u001b[39m, _memo\u001b[38;5;241m=\u001b[39m\u001b[38;5;28;01mNone\u001b[39;00m):\n\u001b[1;32m    230\u001b[0m     cpy \u001b[38;5;241m=\u001b[39m copy\u001b[38;5;241m.\u001b[39mcopy(\u001b[38;5;28mself\u001b[39m)\n\u001b[0;32m--> 231\u001b[0m     cpy\u001b[38;5;241m.\u001b[39mbase_gate \u001b[38;5;241m=\u001b[39m \u001b[38;5;28;43mself\u001b[39;49m\u001b[38;5;241;43m.\u001b[39;49m\u001b[43mbase_gate\u001b[49m\u001b[38;5;241;43m.\u001b[39;49m\u001b[43mcopy\u001b[49m\u001b[43m(\u001b[49m\u001b[43m)\u001b[49m\n\u001b[1;32m    232\u001b[0m     \u001b[38;5;28;01mif\u001b[39;00m \u001b[38;5;28mself\u001b[39m\u001b[38;5;241m.\u001b[39m_definition:\n\u001b[1;32m    233\u001b[0m         cpy\u001b[38;5;241m.\u001b[39m_definition \u001b[38;5;241m=\u001b[39m copy\u001b[38;5;241m.\u001b[39mdeepcopy(\u001b[38;5;28mself\u001b[39m\u001b[38;5;241m.\u001b[39m_definition, _memo)\n",
      "File \u001b[0;32m/opt/.qbraid/environments/qbraid_000000/pyenv/lib/python3.9/site-packages/qiskit/circuit/instruction.py:423\u001b[0m, in \u001b[0;36mInstruction.copy\u001b[0;34m(self, name)\u001b[0m\n\u001b[1;32m    411\u001b[0m \u001b[38;5;28;01mdef\u001b[39;00m \u001b[38;5;21mcopy\u001b[39m(\u001b[38;5;28mself\u001b[39m, name\u001b[38;5;241m=\u001b[39m\u001b[38;5;28;01mNone\u001b[39;00m):\n\u001b[1;32m    412\u001b[0m     \u001b[38;5;124;03m\"\"\"\u001b[39;00m\n\u001b[1;32m    413\u001b[0m \u001b[38;5;124;03m    Copy of the instruction.\u001b[39;00m\n\u001b[1;32m    414\u001b[0m \n\u001b[0;32m   (...)\u001b[0m\n\u001b[1;32m    421\u001b[0m \u001b[38;5;124;03m        updated if it was provided\u001b[39;00m\n\u001b[1;32m    422\u001b[0m \u001b[38;5;124;03m    \"\"\"\u001b[39;00m\n\u001b[0;32m--> 423\u001b[0m     cpy \u001b[38;5;241m=\u001b[39m \u001b[38;5;28;43mself\u001b[39;49m\u001b[38;5;241;43m.\u001b[39;49m\u001b[43m__deepcopy__\u001b[49m\u001b[43m(\u001b[49m\u001b[43m)\u001b[49m\n\u001b[1;32m    425\u001b[0m     \u001b[38;5;28;01mif\u001b[39;00m name:\n\u001b[1;32m    426\u001b[0m         cpy\u001b[38;5;241m.\u001b[39mname \u001b[38;5;241m=\u001b[39m name\n",
      "File \u001b[0;32m/opt/.qbraid/environments/qbraid_000000/pyenv/lib/python3.9/site-packages/qiskit/circuit/instruction.py:430\u001b[0m, in \u001b[0;36mInstruction.__deepcopy__\u001b[0;34m(self, _memo)\u001b[0m\n\u001b[1;32m    429\u001b[0m \u001b[38;5;28;01mdef\u001b[39;00m \u001b[38;5;21m__deepcopy__\u001b[39m(\u001b[38;5;28mself\u001b[39m, _memo\u001b[38;5;241m=\u001b[39m\u001b[38;5;28;01mNone\u001b[39;00m):\n\u001b[0;32m--> 430\u001b[0m     cpy \u001b[38;5;241m=\u001b[39m \u001b[43mcopy\u001b[49m\u001b[38;5;241;43m.\u001b[39;49m\u001b[43mcopy\u001b[49m\u001b[43m(\u001b[49m\u001b[38;5;28;43mself\u001b[39;49m\u001b[43m)\u001b[49m\n\u001b[1;32m    431\u001b[0m     cpy\u001b[38;5;241m.\u001b[39m_params \u001b[38;5;241m=\u001b[39m copy\u001b[38;5;241m.\u001b[39mcopy(\u001b[38;5;28mself\u001b[39m\u001b[38;5;241m.\u001b[39m_params)\n\u001b[1;32m    432\u001b[0m     \u001b[38;5;28;01mif\u001b[39;00m \u001b[38;5;28mself\u001b[39m\u001b[38;5;241m.\u001b[39m_definition:\n",
      "File \u001b[0;32m/opt/conda/lib/python3.9/copy.py:102\u001b[0m, in \u001b[0;36mcopy\u001b[0;34m(x)\u001b[0m\n\u001b[1;32m    100\u001b[0m \u001b[38;5;28;01mif\u001b[39;00m \u001b[38;5;28misinstance\u001b[39m(rv, \u001b[38;5;28mstr\u001b[39m):\n\u001b[1;32m    101\u001b[0m     \u001b[38;5;28;01mreturn\u001b[39;00m x\n\u001b[0;32m--> 102\u001b[0m \u001b[38;5;28;01mreturn\u001b[39;00m \u001b[43m_reconstruct\u001b[49m\u001b[43m(\u001b[49m\u001b[43mx\u001b[49m\u001b[43m,\u001b[49m\u001b[43m \u001b[49m\u001b[38;5;28;43;01mNone\u001b[39;49;00m\u001b[43m,\u001b[49m\u001b[43m \u001b[49m\u001b[38;5;241;43m*\u001b[39;49m\u001b[43mrv\u001b[49m\u001b[43m)\u001b[49m\n",
      "File \u001b[0;32m/opt/conda/lib/python3.9/copy.py:264\u001b[0m, in \u001b[0;36m_reconstruct\u001b[0;34m(x, memo, func, args, state, listiter, dictiter, deepcopy)\u001b[0m\n\u001b[1;32m    262\u001b[0m \u001b[38;5;28;01mif\u001b[39;00m deep \u001b[38;5;129;01mand\u001b[39;00m args:\n\u001b[1;32m    263\u001b[0m     args \u001b[38;5;241m=\u001b[39m (deepcopy(arg, memo) \u001b[38;5;28;01mfor\u001b[39;00m arg \u001b[38;5;129;01min\u001b[39;00m args)\n\u001b[0;32m--> 264\u001b[0m y \u001b[38;5;241m=\u001b[39m \u001b[43mfunc\u001b[49m\u001b[43m(\u001b[49m\u001b[38;5;241;43m*\u001b[39;49m\u001b[43margs\u001b[49m\u001b[43m)\u001b[49m\n\u001b[1;32m    265\u001b[0m \u001b[38;5;28;01mif\u001b[39;00m deep:\n\u001b[1;32m    266\u001b[0m     memo[\u001b[38;5;28mid\u001b[39m(x)] \u001b[38;5;241m=\u001b[39m y\n",
      "File \u001b[0;32m/opt/conda/lib/python3.9/copyreg.py:95\u001b[0m, in \u001b[0;36m__newobj__\u001b[0;34m(cls, *args)\u001b[0m\n\u001b[1;32m     94\u001b[0m \u001b[38;5;28;01mdef\u001b[39;00m \u001b[38;5;21m__newobj__\u001b[39m(\u001b[38;5;28mcls\u001b[39m, \u001b[38;5;241m*\u001b[39margs):\n\u001b[0;32m---> 95\u001b[0m     \u001b[38;5;28;01mreturn\u001b[39;00m \u001b[38;5;28;43mcls\u001b[39;49m\u001b[38;5;241;43m.\u001b[39;49m\u001b[38;5;21;43m__new__\u001b[39;49m\u001b[43m(\u001b[49m\u001b[38;5;28;43mcls\u001b[39;49m\u001b[43m,\u001b[49m\u001b[43m \u001b[49m\u001b[38;5;241;43m*\u001b[39;49m\u001b[43margs\u001b[49m\u001b[43m)\u001b[49m\n",
      "\u001b[0;31mKeyboardInterrupt\u001b[0m: "
     ]
    }
   ],
   "source": [
    "a = 11\n",
    "factor_found = False\n",
    "attempt = 0\n",
    "while not factor_found:\n",
    "    attempt += 1\n",
    "    print(\"\\nAttempt %i:\" % attempt)\n",
    "    phase = qpe_amod31(a) # Phase = s/r\n",
    "    frac = Fraction(phase).limit_denominator(N) # Denominator should (hopefully!) tell us r\n",
    "    r = frac.denominator\n",
    "    print(\"Result: r = %i\" % r)\n",
    "    if phase != 0:\n",
    "        # Guesses for factors are gcd(x^{r/2} ±1 , 15)\n",
    "        guesses = [gcd(a**(r//2)-1, N), gcd(a**(r//2)+1, N)]\n",
    "        print(\"Guessed Factors: %i and %i\" % (guesses[0], guesses[1]))\n",
    "        for guess in guesses:\n",
    "            if guess not in [1,N] and (N % guess) == 0: # Check to see if guess is a factor\n",
    "                print(\"*** Non-trivial factor found: %i ***\" % guess)\n",
    "                factor_found = True"
   ]
  },
  {
   "cell_type": "markdown",
   "metadata": {
    "id": "Qj6kA_2t6VpK"
   },
   "source": [
    "# My Shor's Factoring Algorithm\n",
    "Shor's algorithm consists of a classical and quantum portion\n",
    "\n",
    "\n",
    "## Classical Portion\n",
    "After checking out the pre-build Shor's algorithm, let's try and code it ourselves. We're going to use Google's Cirq framework.\n",
    "\n",
    "Our task is to take some prime integer $N$ and factor it. We first need to make sure that there isn't a classical nontrivial factor (a facotr other than 1 and the number itself).  This can be determined by taking the GCD (greatest common denominator) of the random number, $a$, and $N$.\n",
    "\n",
    "$$\\text{GCD}(a,N) \\neq 1$$\n",
    "\n",
    "\n",
    "If it isn't equal to 1, then we've found integers which factor $N$! Here's a quick example where, $N=52$ and $a=6$ and it's greatest common denominator $\\text{GCD}(6,52)=2$. This implies that both 6 and 52 can be divided 2 so we're done with finding a factor of $52$.\n",
    "\n",
    "## Quantum Period Finding Subroutine\n",
    "If it is equal to 1, we'll need to apply the period-finding subroutine to find the period $r$ of the function. \n",
    "\n",
    "The period finding subroutine, is a neat little trick to make finding factors of a number much easier which involves quantum phase estimation\n"
   ]
  },
  {
   "cell_type": "code",
   "execution_count": 7,
   "metadata": {},
   "outputs": [],
   "source": [
    "import cirq\n",
    "from typing import Sequence, Union, Iterable, Optional\n",
    "\"\"\"Example of defining an arithmetic (quantum) gate in Cirq.\"\"\"\n",
    "class Adder(cirq.ArithmeticGate):\n",
    "    \"\"\"Quantum addition.\"\"\"\n",
    "    def __init__(\n",
    "        self,\n",
    "        target_register: [int, Sequence[int]],\n",
    "        input_register: Union[int, Sequence[int]],\n",
    "    ):\n",
    "        self.target_register = target_register\n",
    "        self.input_register = input_register\n",
    "\n",
    "    def registers(self) -> Sequence[Union[int, Sequence[int]]]:\n",
    "        return self.target_register, self.input_register\n",
    "\n",
    "    def with_registers(\n",
    "        self, *new_registers: Union[int, Sequence[int]]\n",
    "    ) -> 'Adder':\n",
    "        return Adder(*new_registers)\n",
    "\n",
    "    def apply(self, *register_values: int) -> Union[int, Iterable[int]]:\n",
    "        return sum(register_values)\n",
    "    def _circuit_diagram_info_(self, args: cirq.CircuitDiagramInfoArgs):\n",
    "        wire_symbols = [' + ' for _ in range(len(self.input_register)+len(self.target_register))]\n",
    "        return cirq.CircuitDiagramInfo(wire_symbols=tuple(wire_symbols))"
   ]
  },
  {
   "cell_type": "code",
   "execution_count": null,
   "metadata": {},
   "outputs": [],
   "source": []
  },
  {
   "cell_type": "code",
   "execution_count": 8,
   "metadata": {},
   "outputs": [],
   "source": [
    "\"\"\"Defines the modular exponential gate used in Shor's algorithm.\"\"\"\n",
    "class ModularExp(cirq.ArithmeticGate):\n",
    "    \"\"\"Quantum modular exponentiation.\n",
    "\n",
    "    This class represents the unitary which multiplies base raised to exponent\n",
    "    into the target modulo the given modulus. More precisely, it represents the\n",
    "    unitary V which computes modular exponentiation x**e mod n:\n",
    "\n",
    "        V|y⟩|e⟩ = |y * x**e mod n⟩ |e⟩     0 <= y < n\n",
    "        V|y⟩|e⟩ = |y⟩ |e⟩                  n <= y\n",
    "\n",
    "    where y is the target register, e is the exponent register, x is the base\n",
    "    and n is the modulus. Consequently,\n",
    "\n",
    "        V|y⟩|e⟩ = (U**e|y)|e⟩\n",
    "\n",
    "    where U is the unitary defined as\n",
    "\n",
    "        U|y⟩ = |y * x mod n⟩      0 <= y < n\n",
    "        U|y⟩ = |y⟩                n <= y\n",
    "    \"\"\"\n",
    "    def __init__(\n",
    "        self,\n",
    "        target: Sequence[int],\n",
    "        exponent: Union[int, Sequence[int]],\n",
    "        base: int,\n",
    "        modulus: int\n",
    "    ) -> None:\n",
    "        if len(target) < modulus.bit_length():\n",
    "            raise ValueError(\n",
    "                f'Register with {len(target)} qubits is too small for modulus'\n",
    "                f' {modulus}'\n",
    "            )\n",
    "        self.target = target\n",
    "        self.exponent = exponent\n",
    "        self.base = base\n",
    "        self.modulus = modulus\n",
    "\n",
    "    def registers(self) -> Sequence[Union[int, Sequence[int]]]:\n",
    "        return self.target, self.exponent, self.base, self.modulus\n",
    "\n",
    "    def with_registers(\n",
    "        self, *new_registers: Union[int, Sequence[int]]\n",
    "    ) -> 'ModularExp':\n",
    "        \"\"\"Returns a new ModularExp object with new registers.\"\"\"\n",
    "        if len(new_registers) != 4:\n",
    "            raise ValueError(\n",
    "                f'Expected 4 registers (target, exponent, base, '\n",
    "                f'modulus), but got {len(new_registers)}'\n",
    "            )\n",
    "        target, exponent, base, modulus = new_registers\n",
    "        if not isinstance(target, Sequence):\n",
    "            raise ValueError(\n",
    "                f'Target must be a qubit register, got {type(target)}'\n",
    "            )\n",
    "        if not isinstance(base, int):\n",
    "            raise ValueError(\n",
    "                f'Base must be a classical constant, got {type(base)}'\n",
    "            )\n",
    "        if not isinstance(modulus, int):\n",
    "            raise ValueError(\n",
    "              f'Modulus must be a classical constant, got {type(modulus)}'\n",
    "            )\n",
    "        return ModularExp(target, exponent, base, modulus)\n",
    "\n",
    "    def apply(self, *register_values: int) -> int:\n",
    "        \"\"\"Applies modular exponentiation to the registers.\n",
    "\n",
    "        Four values should be passed in.  They are, in order:\n",
    "          - the target\n",
    "          - the exponent\n",
    "          - the base\n",
    "          - the modulus\n",
    "\n",
    "        Note that the target and exponent should be qubit\n",
    "        registers, while the base and modulus should be\n",
    "        constant parameters that control the resulting unitary.\n",
    "        \"\"\"\n",
    "        assert len(register_values) == 4\n",
    "        target, exponent, base, modulus = register_values\n",
    "        if target >= modulus:\n",
    "            return target\n",
    "        return (target * base**exponent) % modulus\n",
    "\n",
    "    def _circuit_diagram_info_(\n",
    "      self, args: cirq.CircuitDiagramInfoArgs\n",
    "    ) -> cirq.CircuitDiagramInfo:\n",
    "        \"\"\"Returns a 'CircuitDiagramInfo' object for printing circuits.\n",
    "\n",
    "        This function just returns information on how to print this operation\n",
    "        out in a circuit diagram so that the registers are labeled\n",
    "        appropriately as exponent ('e') and target ('t').\n",
    "        \"\"\"\n",
    "        assert args.known_qubits is not None\n",
    "        wire_symbols = [f't{i}' for i in range(len(self.target))]\n",
    "        e_str = str(self.exponent)\n",
    "        if isinstance(self.exponent, Sequence):\n",
    "            e_str = 'e'\n",
    "            wire_symbols += [f'e{i}' for i in range(len(self.exponent))]\n",
    "        wire_symbols[0] = f'ModularExp(t*{self.base}**{e_str} % {self.modulus})'\n",
    "        return cirq.CircuitDiagramInfo(wire_symbols=tuple(wire_symbols))\n"
   ]
  },
  {
   "cell_type": "markdown",
   "metadata": {},
   "source": [
    "## Create period finding subroutine\n",
    "We now want to use the above custom gates to implement the quantum period finding subroutine"
   ]
  },
  {
   "cell_type": "code",
   "execution_count": 9,
   "metadata": {},
   "outputs": [],
   "source": [
    "\n",
    "def quantum_period_finding(x: int, n: int) -> cirq.Circuit:\n",
    "\n",
    "    L = n.bit_length()\n",
    "    target = cirq.LineQubit.range(L)\n",
    "    exponent = cirq.LineQubit.range(L, 3 * L + 3)\n",
    "\n",
    "    # Create a ModularExp gate sized for these registers.\n",
    "    mod_exp = ModularExp([2] * L, [2] * (2 * L + 3), x, n)\n",
    "\n",
    "    return cirq.Circuit(\n",
    "        cirq.X(target[L - 1]),\n",
    "        cirq.H.on_each(*exponent),\n",
    "        mod_exp.on(*target, *exponent),\n",
    "        cirq.qft(*exponent, inverse=True),\n",
    "        cirq.measure(*exponent, key='exponent'),\n",
    "    )"
   ]
  },
  {
   "cell_type": "markdown",
   "metadata": {},
   "source": [
    "## Processing the results\n",
    "Finally, we need to take the processed results and clean it with some classical post processing"
   ]
  },
  {
   "cell_type": "code",
   "execution_count": 23,
   "metadata": {},
   "outputs": [],
   "source": [
    "import fractions\n",
    "def process_measurement(result: cirq.Result, x: int, n: int) -> Optional[int]:\n",
    "    \"\"\"Interprets the output of the order finding circuit.\n",
    "\n",
    "    Specifically, it determines s/r such that exp(2πis/r) is an eigenvalue\n",
    "    of the unitary\n",
    "\n",
    "        U|y⟩ = |xy mod n⟩  0 <= y < n\n",
    "        U|y⟩ = |y⟩         n <= y\n",
    "\n",
    "    then computes r (by continued fractions) if possible, and returns it.\n",
    "\n",
    "    Args:\n",
    "        result: result obtained by sampling the output of the\n",
    "            circuit built by make_order_finding_circuit\n",
    "\n",
    "    Returns:\n",
    "        r, the order of x modulo n or None.\n",
    "    \"\"\"\n",
    "    # Read the output integer of the exponent register.\n",
    "    exponent_as_integer = result.data[\"exponent\"][0]\n",
    "    exponent_num_bits = result.measurements[\"exponent\"].shape[1]\n",
    "    eigenphase = float(exponent_as_integer / 2**exponent_num_bits)\n",
    "\n",
    "    # Run the continued fractions algorithm to determine f = s / r.\n",
    "    f = fractions.Fraction.from_float(eigenphase).limit_denominator(n)\n",
    "\n",
    "    # If the numerator is zero, the order finder failed.\n",
    "    if f.numerator == 0:\n",
    "        return None\n",
    "\n",
    "    # Else, return the denominator if it is valid.\n",
    "    r = f.denominator\n",
    "    if x**r % n != 1:\n",
    "        return None\n",
    "    return r"
   ]
  },
  {
   "cell_type": "code",
   "execution_count": 31,
   "metadata": {},
   "outputs": [
    {
     "name": "stdout",
     "output_type": "stream",
     "text": [
      "3\n"
     ]
    }
   ],
   "source": [
    "import numpy as np\n",
    "import math\n",
    "def shors_algorithm(N):\n",
    "    a = np.random.randint(1, N)\n",
    "    if math.gcd(a,N) != 1:\n",
    "        # we've found a trivial factor so we're done\n",
    "        print(\"we've found a trivial factor so we're done\")\n",
    "        k = math.gcd(a,N)\n",
    "        factor = N/k\n",
    "        print(f\"{k}  and {factor} are integers which factor N\")\n",
    "        return (k, factor)\n",
    "    else:\n",
    "        \"\"\"Measuring Shor's period finding circuit.\"\"\"\n",
    "        circuit = quantum_period_finding(a,N)\n",
    "        res = cirq.sample(circuit, repetitions=8)\n",
    "        return process_measurement(res, N,a)\n",
    "x = shors_algorithm(7)\n",
    "print(x)"
   ]
  },
  {
   "cell_type": "markdown",
   "metadata": {},
   "source": [
    "## Implementing QPE (Quantum Phase Estimation)\n",
    "\n",
    "QPE is an algorithm which allows the estimation of $\\theta$ in $U|{\\psi}\\rangle. = \\exp^{2\\pi i \\theta}$. This is an important portion of Shor's algorithm because finding the prime number requires finding the period of $|\\psi\\rangle = \\frac{1}{\\sqrt{r}}\\sum_{s=0}^{r-1}|\\chi_s \\rangle = | \\phi \\rangle$. "
   ]
  },
  {
   "cell_type": "markdown",
   "metadata": {},
   "source": [
    "We initialize our qubit with the eigenstate using the X gate."
   ]
  },
  {
   "cell_type": "code",
   "execution_count": null,
   "metadata": {},
   "outputs": [],
   "source": [
    "cirq.X(qubits[-1])\n",
    "print(counting_qubits)"
   ]
  },
  {
   "cell_type": "markdown",
   "metadata": {},
   "source": [
    "We then apply the Hadamard gate to set $n$ qubits to be a superposition of the 0 and 1 state. This implies that we get $2^n$ states for our input qubits."
   ]
  },
  {
   "cell_type": "code",
   "execution_count": null,
   "metadata": {},
   "outputs": [],
   "source": [
    "for qubit in counting_qubits[:-1]:\n",
    "    cirq.H(qubit)"
   ]
  },
  {
   "cell_type": "code",
   "execution_count": null,
   "metadata": {},
   "outputs": [],
   "source": []
  },
  {
   "cell_type": "code",
   "execution_count": null,
   "metadata": {
    "id": "53vcPudi6fvU"
   },
   "outputs": [],
   "source": [
    "zo# qBraid's tutorial on Shor's factoring algorithm (ie qiskit's old version)\n",
    "N = 31 #Enter an odd integer > 1\n",
    "\n",
    "\n",
    "backend = Aer.get_backend('qasm_simulator')\n",
    "quantum_instance = QuantumInstance(backend, shots=1024)\n",
    "result = shor.run(quantum_instance)\n",
    "print(f\"The list of factors of {N} as computed by the Shor's algorithm is {result['factors'][0]}.\")"
   ]
  },
  {
   "cell_type": "code",
   "execution_count": null,
   "metadata": {},
   "outputs": [],
   "source": []
  },
  {
   "cell_type": "code",
   "execution_count": 28,
   "metadata": {
    "id": "MI8ew53R62HA"
   },
   "outputs": [
    {
     "name": "stdout",
     "output_type": "stream",
     "text": [
      "Computed of qubits for circuit: 22\n"
     ]
    },
    {
     "ename": "NameError",
     "evalue": "name 'shor' is not defined",
     "output_type": "error",
     "traceback": [
      "\u001b[0;31m---------------------------------------------------------------------------\u001b[0m",
      "\u001b[0;31mNameError\u001b[0m                                 Traceback (most recent call last)",
      "Input \u001b[0;32mIn [28]\u001b[0m, in \u001b[0;36m<cell line: 2>\u001b[0;34m()\u001b[0m\n\u001b[1;32m      1\u001b[0m \u001b[38;5;28mprint\u001b[39m(\u001b[38;5;124mf\u001b[39m\u001b[38;5;124m'\u001b[39m\u001b[38;5;124mComputed of qubits for circuit: \u001b[39m\u001b[38;5;132;01m{\u001b[39;00m\u001b[38;5;241m4\u001b[39m \u001b[38;5;241m*\u001b[39m math\u001b[38;5;241m.\u001b[39mceil(math\u001b[38;5;241m.\u001b[39mlog(N, \u001b[38;5;241m2\u001b[39m)) \u001b[38;5;241m+\u001b[39m \u001b[38;5;241m2\u001b[39m\u001b[38;5;132;01m}\u001b[39;00m\u001b[38;5;124m'\u001b[39m)\n\u001b[0;32m----> 2\u001b[0m \u001b[38;5;28mprint\u001b[39m(\u001b[38;5;124mf\u001b[39m\u001b[38;5;124m'\u001b[39m\u001b[38;5;124mActual number of qubits of circuit: \u001b[39m\u001b[38;5;132;01m{\u001b[39;00mshor\u001b[38;5;241m.\u001b[39mconstruct_circuit()\u001b[38;5;241m.\u001b[39mnum_qubits\u001b[38;5;132;01m}\u001b[39;00m\u001b[38;5;124m'\u001b[39m)\n",
      "\u001b[0;31mNameError\u001b[0m: name 'shor' is not defined"
     ]
    }
   ],
   "source": [
    "print(f'Computed of qubits for circuit: {4 * math.ceil(math.log(N, 2)) + 2}')\n",
    "print(f'Actual number of qubits of circuit: {shor.construct_circuit().num_qubits}')"
   ]
  },
  {
   "cell_type": "code",
   "execution_count": 29,
   "metadata": {
    "id": "EfuzP0nm7PzE"
   },
   "outputs": [
    {
     "data": {
      "text/html": [
       "<h3>Version Information</h3><table><tr><th>Qiskit Software</th><th>Version</th></tr><tr><td><code>qiskit-terra</code></td><td>0.21.0</td></tr><tr><td><code>qiskit-aer</code></td><td>0.10.4</td></tr><tr><td><code>qiskit-ignis</code></td><td>0.7.1</td></tr><tr><td><code>qiskit-ibmq-provider</code></td><td>0.19.1</td></tr><tr><td><code>qiskit</code></td><td>0.36.2</td></tr><tr><td><code>qiskit-nature</code></td><td>0.4.3</td></tr><tr><td><code>qiskit-finance</code></td><td>0.3.3</td></tr><tr><td><code>qiskit-optimization</code></td><td>0.4.0</td></tr><tr><td><code>qiskit-machine-learning</code></td><td>0.4.0</td></tr><tr><th>System information</th></tr><tr><td>Python version</td><td>3.9.10</td></tr><tr><td>Python compiler</td><td>GCC 9.4.0</td></tr><tr><td>Python build</td><td>main, Feb  1 2022 21:24:11</td></tr><tr><td>OS</td><td>Linux</td></tr><tr><td>CPUs</td><td>4</td></tr><tr><td>Memory (Gb)</td><td>15.374149322509766</td></tr><tr><td colspan='2'>Mon Aug 22 00:06:55 2022 UTC</td></tr></table>"
      ],
      "text/plain": [
       "<IPython.core.display.HTML object>"
      ]
     },
     "metadata": {},
     "output_type": "display_data"
    },
    {
     "data": {
      "text/html": [
       "<div style='width: 100%; background-color:#d5d9e0;padding-left: 10px; padding-bottom: 10px; padding-right: 10px; padding-top: 5px'><h3>This code is a part of Qiskit</h3><p>&copy; Copyright IBM 2017, 2022.</p><p>This code is licensed under the Apache License, Version 2.0. You may<br>obtain a copy of this license in the LICENSE.txt file in the root directory<br> of this source tree or at http://www.apache.org/licenses/LICENSE-2.0.<p>Any modifications or derivative works of this code must retain this<br>copyright notice, and modified files need to carry a notice indicating<br>that they have been altered from the originals.</p></div>"
      ],
      "text/plain": [
       "<IPython.core.display.HTML object>"
      ]
     },
     "metadata": {},
     "output_type": "display_data"
    }
   ],
   "source": [
    "import qiskit.tools.jupyter\n",
    "%qiskit_version_table\n",
    "%qiskit_copyright"
   ]
  },
  {
   "cell_type": "markdown",
   "metadata": {
    "id": "mrGfxGOWBK5I"
   },
   "source": [
    "# Classical Factorization"
   ]
  },
  {
   "cell_type": "code",
   "execution_count": null,
   "metadata": {
    "id": "ECKwGKJZBO-5"
   },
   "outputs": [],
   "source": [
    "num=int(input(\"enter a number\"))\n",
    "factors=[]\n",
    "for i in range(1,num+1):\n",
    "    if num%i==0:\n",
    "       factors.append(i)\n",
    "\n",
    "print (\"Factors of {} = {}\".format(num,factors))"
   ]
  },
  {
   "cell_type": "markdown",
   "metadata": {
    "id": "y-YNTsxLCW7d"
   },
   "source": [
    "# Sieve of Eratosthenes"
   ]
  },
  {
   "cell_type": "code",
   "execution_count": null,
   "metadata": {
    "colab": {
     "base_uri": "https://localhost:8080/"
    },
    "id": "WjzS7T3PCYxU",
    "outputId": "f768318f-2511-4bd1-a10e-7fe39d95f841"
   },
   "outputs": [],
   "source": [
    "# Python program to print all Primes Smaller\n",
    "# than or equal to N using Sieve of Eratosthenes\n",
    "\n",
    "\n",
    "def SieveOfEratosthenes(num):\n",
    "\tprime = [True for i in range(num+1)]\n",
    "# boolean array\n",
    "\tp = 2\n",
    "\twhile (p * p <= num):\n",
    "\n",
    "\t\t# If prime[p] is not\n",
    "\t\t# changed, then it is a prime\n",
    "\t\tif (prime[p] == True):\n",
    "\n",
    "\t\t\t# Updating all multiples of p\n",
    "\t\t\tfor i in range(p * p, num+1, p):\n",
    "\t\t\t\tprime[i] = False\n",
    "\t\tp += 1\n",
    "\n",
    "\t# Print all prime numbers\n",
    "\tfor p in range(2, num+1):\n",
    "\t\tif prime[p]:\n",
    "\t\t\tprint(p)\n",
    "\n",
    "\n",
    "# Driver code\n",
    "if __name__ == '__main__':\n",
    "\tnum = 50\n",
    "\tprint(\"Following are the prime numbers smaller\"),\n",
    "\tprint(\"than or equal to\", num)\n",
    "\tSieveOfEratosthenes(num)\n"
   ]
  },
  {
   "cell_type": "code",
   "execution_count": null,
   "metadata": {
    "id": "ulih6g62TG-x"
   },
   "outputs": [],
   "source": []
  },
  {
   "cell_type": "code",
   "execution_count": null,
   "metadata": {},
   "outputs": [],
   "source": []
  }
 ],
 "metadata": {
  "colab": {
   "collapsed_sections": [],
   "include_colab_link": true,
   "name": "Factoring with Shor's.ipynb",
   "provenance": []
  },
  "kernelspec": {
   "display_name": "Python 3 [Default]",
   "language": "python",
   "name": "python3_qbraid"
  },
  "language_info": {
   "codemirror_mode": {
    "name": "ipython",
    "version": 3
   },
   "file_extension": ".py",
   "mimetype": "text/x-python",
   "name": "python",
   "nbconvert_exporter": "python",
   "pygments_lexer": "ipython3",
   "version": "3.9.10"
  }
 },
 "nbformat": 4,
 "nbformat_minor": 4
}
